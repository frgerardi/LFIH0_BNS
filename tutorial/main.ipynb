{
 "cells": [
  {
   "cell_type": "code",
   "execution_count": 1,
   "metadata": {},
   "outputs": [
    {
     "name": "stdout",
     "output_type": "stream",
     "text": [
      "TensorFlow 1.15.0\n",
      "numpy 1.17.2\n"
     ]
    }
   ],
   "source": [
    "from __future__ import absolute_import, division, print_function, unicode_literals\n",
    "\n",
    "import sys\n",
    "import os\n",
    "import glob\n",
    "import shutil\n",
    "\n",
    "import numpy as np\n",
    "import matplotlib.pyplot as plt\n",
    "\n",
    "sys.path.insert(1, './modules/')\n",
    "import pydelfi_t1.priors as priors\n",
    "from smt.sampling_methods import LHS\n",
    "\n",
    "#importing simulation modules and parameters file______\n",
    "import simulator as sims\n",
    "data_generation=sims.simulations()\n",
    "from set_params import *\n",
    "\n",
    "data_generation=sims.simulations()\n",
    "#______________________________________________________\n",
    "    \n",
    "%matplotlib inline\n",
    "\n",
    "import tensorflow as tf\n",
    "print(\"TensorFlow {}\\nnumpy {}\".format(\n",
    "    tf.__version__, np.__version__))"
   ]
  },
  {
   "cell_type": "markdown",
   "metadata": {},
   "source": [
    "## Simulating real data samples"
   ]
  },
  {
   "cell_type": "code",
   "execution_count": 2,
   "metadata": {},
   "outputs": [],
   "source": [
    "n_sets = 1"
   ]
  },
  {
   "cell_type": "code",
   "execution_count": 3,
   "metadata": {},
   "outputs": [
    {
     "name": "stderr",
     "output_type": "stream",
     "text": [
      "WARNING:absl:No GPU/TPU found, falling back to CPU. (Set TF_CPP_MIN_LOG_LEVEL=0 and rerun for more info.)\n"
     ]
    },
    {
     "name": "stdout",
     "output_type": "stream",
     "text": [
      "APPLYING LATIN HYPERCUBE\n"
     ]
    }
   ],
   "source": [
    "new_realdata = True\n",
    "\n",
    "if new_realdata == True:\n",
    "    if not os.path.exists('{}'.format(pathtorealsamples)):\n",
    "        os.makedirs('{}'.format(pathtorealsamples))\n",
    "    print('APPLYING LATIN HYPERCUBE')\n",
    "\n",
    "    sampling = LHS(xlimits=np.array([[65,75],[-0.7,-0.3]]))\n",
    "    draws = sampling(n_sets)\n",
    "    \n",
    "    real_data = np.zeros((n_sets,(n_obs)*n_sources))\n",
    "    \n",
    "    for i in range (n_sets):\n",
    "        theta=np.array([draws[i][0],draws[i][1]])\n",
    "        sim = data_generation.data_simulator(theta = theta)\n",
    "        real_data[i] = sim    \n",
    "\n",
    "    np.savetxt('{}'.format(pathtorealsamples)+'/multi_thetas{}.txt'.format(ref_filename),draws)    \n",
    "    np.savetxt('{}'.format(pathtorealsamples)+'/multi_randomdata{}.txt'.format(ref_filename),real_data)"
   ]
  },
  {
   "cell_type": "code",
   "execution_count": 4,
   "metadata": {},
   "outputs": [
    {
     "data": {
      "image/png": "[encoded data removed]",
      "text/plain": [
       "<Figure size 432x288 with 1 Axes>"
      ]
     },
     "metadata": {
      "needs_background": "light"
     },
     "output_type": "display_data"
    },
    {
     "data": {
      "image/png": "[encoded data removed]",
      "text/plain": [
       "<Figure size 432x288 with 1 Axes>"
      ]
     },
     "metadata": {
      "needs_background": "light"
     },
     "output_type": "display_data"
    },
    {
     "data": {
      "image/png": "[encoded data removed]",
      "text/plain": [
       "<Figure size 432x288 with 1 Axes>"
      ]
     },
     "metadata": {
      "needs_background": "light"
     },
     "output_type": "display_data"
    }
   ],
   "source": [
    "observables = ['redshift','luminosity distance','peculiar velocity']\n",
    "for i in range (len(observables)):\n",
    "    plt.hist(real_data[0,i*100:(i+1)*100])\n",
    "    plt.xlabel(observables[i])\n",
    "    plt.show()"
   ]
  },
  {
   "cell_type": "markdown",
   "metadata": {},
   "source": [
    "## Simulating training data for the regression neural network"
   ]
  },
  {
   "cell_type": "code",
   "execution_count": 5,
   "metadata": {},
   "outputs": [
    {
     "name": "stdout",
     "output_type": "stream",
     "text": [
      "computing training simulations\n",
      "(5, 1000, 302)\n",
      "0/1000 thetas done\n",
      "time for all sims 0:00:00\n",
      "100/1000 thetas done\n",
      "time for all sims 0:00:09\n",
      "200/1000 thetas done\n",
      "time for all sims 0:00:19\n",
      "300/1000 thetas done\n",
      "time for all sims 0:00:32\n",
      "400/1000 thetas done\n",
      "time for all sims 0:00:42\n",
      "500/1000 thetas done\n",
      "time for all sims 0:00:54\n",
      "600/1000 thetas done\n",
      "time for all sims 0:01:06\n",
      "700/1000 thetas done\n",
      "time for all sims 0:01:20\n",
      "800/1000 thetas done\n",
      "time for all sims 0:01:34\n",
      "900/1000 thetas done\n",
      "time for all sims 0:01:46\n",
      "computing validation simulations\n",
      "(2, 1000, 302)\n",
      "0/1000 thetas done\n",
      "time for all sims 0:00:01\n",
      "100/1000 thetas done\n",
      "time for all sims 0:00:05\n",
      "200/1000 thetas done\n",
      "time for all sims 0:00:11\n",
      "300/1000 thetas done\n",
      "time for all sims 0:00:16\n",
      "400/1000 thetas done\n",
      "time for all sims 0:00:21\n",
      "500/1000 thetas done\n",
      "time for all sims 0:00:26\n",
      "600/1000 thetas done\n",
      "time for all sims 0:00:30\n",
      "700/1000 thetas done\n",
      "time for all sims 0:00:34\n",
      "800/1000 thetas done\n",
      "time for all sims 0:00:39\n",
      "900/1000 thetas done\n",
      "time for all sims 0:00:44\n"
     ]
    }
   ],
   "source": [
    "new_NN_data = True\n",
    "\n",
    "if new_NN_data == True:\n",
    "    data_generation.NN_datasets()\n"
   ]
  },
  {
   "cell_type": "code",
   "execution_count": null,
   "metadata": {},
   "outputs": [],
   "source": []
  },
  {
   "cell_type": "code",
   "execution_count": null,
   "metadata": {},
   "outputs": [],
   "source": []
  },
  {
   "cell_type": "markdown",
   "metadata": {},
   "source": [
    "## Simulating the prerun simulation for LFI computations "
   ]
  },
  {
   "cell_type": "code",
   "execution_count": 6,
   "metadata": {},
   "outputs": [
    {
     "name": "stdout",
     "output_type": "stream",
     "text": [
      "APPLYING UNIFORM PRIOR\n",
      "(2000, 300)\n",
      "(2000, 2)\n"
     ]
    }
   ],
   "source": [
    "new_prerunsims = True\n",
    "n_sims = 2000\n",
    "\n",
    "if new_prerunsims == True:\n",
    "    \n",
    "    pathlib.Path('{}'.format(pathtopydelfiprerunsims)).mkdir(parents=True, exist_ok=True)\n",
    "\n",
    "    # drawing thetas\n",
    "\n",
    "    print('APPLYING UNIFORM PRIOR')\n",
    "    prior_distr = priors.Uniform(lower, upper)     \n",
    "\n",
    "    draws = np.zeros((n_sims,2))\n",
    "    for i in range (n_sims):\n",
    "        draws[i]=prior_distr.draw()\n",
    "    \n",
    "    np.savetxt('{}'.format(pathtopydelfiprerunsims)+'/prerun_thetas{}.txt'.format(ref_filename),draws) \n",
    "\n",
    "    #sims\n",
    "\n",
    "    prerun_sims = np.zeros((n_sims,(n_obs)*n_sources))\n",
    "    for i in range (n_sims):\n",
    "        theta=np.array([draws[i][0],draws[i][1]])\n",
    "        sim = data_generation.data_simulator(theta = theta)\n",
    "        prerun_sims[i] = sim  \n",
    "    \n",
    "    np.savetxt('{}'.format(pathtopydelfiprerunsims)+'/prerun_sims{}.txt'.format(ref_filename),prerun_sims)\n",
    "\n",
    "    print(prerun_sims.shape)\n",
    "    print(draws.shape)"
   ]
  },
  {
   "cell_type": "code",
   "execution_count": null,
   "metadata": {},
   "outputs": [],
   "source": []
  },
  {
   "cell_type": "markdown",
   "metadata": {},
   "source": [
    "## Regression Neural Network "
   ]
  },
  {
   "cell_type": "code",
   "execution_count": 2,
   "metadata": {
    "scrolled": true
   },
   "outputs": [
    {
     "name": "stdout",
     "output_type": "stream",
     "text": [
      "/home/francesca/Desktop/PhD_project/LFIH0_BNS/tutorial/modules\n"
     ]
    }
   ],
   "source": [
    "%cd ./modules/"
   ]
  },
  {
   "cell_type": "code",
   "execution_count": 11,
   "metadata": {
    "scrolled": false
   },
   "outputs": [
    {
     "name": "stdout",
     "output_type": "stream",
     "text": [
      "____PROCESS0 for [l1,bs,lr]=[array([0.0001]), array([100]), array([0.0001])]have been set____\n",
      "(5000, 300)\n",
      "(2000, 300)\n",
      "Restoring model weights from the end of the best epoch.\n",
      "Epoch 01051: early stopping\n",
      "Model 1 has been stored\n",
      "Restoring model weights from the end of the best epoch.\n",
      "Epoch 01155: early stopping\n",
      "Model 2 has been stored\n",
      "Restoring model weights from the end of the best epoch.\n",
      "Epoch 01269: early stopping\n",
      "Model 3 has been stored\n",
      "Restoring model weights from the end of the best epoch.\n",
      "Epoch 01037: early stopping\n",
      "Model 4 has been stored\n",
      "Restoring model weights from the end of the best epoch.\n",
      "Epoch 00922: early stopping\n",
      "Model 5 has been stored\n",
      "Training process is complete and models have been stored\n"
     ]
    }
   ],
   "source": [
    "if sys.version[0]==3:\n",
    "    pathlib.Path('{}'.format(pathtoNNmodels)).mkdir(parents=True, exist_ok=True) \n",
    "else:\n",
    "    if not os.path.exists('{}'.format(pathtoNNmodels)):\n",
    "        os.makedirs('{}'.format(pathtoNNmodels))\n",
    "\n",
    "%run NN.py"
   ]
  },
  {
   "cell_type": "code",
   "execution_count": null,
   "metadata": {},
   "outputs": [],
   "source": []
  },
  {
   "cell_type": "markdown",
   "metadata": {},
   "source": [
    "## STAN"
   ]
  },
  {
   "cell_type": "code",
   "execution_count": 2,
   "metadata": {},
   "outputs": [
    {
     "name": "stdout",
     "output_type": "stream",
     "text": [
      "/home/francesca/Desktop/PhD_project/LFIH0_BNS/tutorial/modules\n"
     ]
    }
   ],
   "source": [
    "#%cd ./modules/"
   ]
  },
  {
   "cell_type": "code",
   "execution_count": 4,
   "metadata": {
    "scrolled": true
   },
   "outputs": [
    {
     "name": "stdout",
     "output_type": "stream",
     "text": [
      "tensorflow version 1.15.0\n",
      "STAN_scripts/N_bar_numerical_coefficients_3Dsel_zmin0.0.txt\n"
     ]
    },
    {
     "name": "stderr",
     "output_type": "stream",
     "text": [
      "WARNING:pystan:n_eff / iter below 0.001 indicates that the effective sample size has likely been overestimated\n",
      "WARNING:pystan:Rhat above 1.1 or below 0.9 indicates that the chains very likely have not mixed\n"
     ]
    },
    {
     "name": "stdout",
     "output_type": "stream",
     "text": [
      "0 (20000, 2)\n",
      "Removed no burn in\n"
     ]
    },
    {
     "name": "stderr",
     "output_type": "stream",
     "text": [
      "WARNING:matplotlib.legend:No handles with labels found to put in legend.\n"
     ]
    }
   ],
   "source": [
    "for k in range (1):\n",
    "    np.save('real_data_element',k)\n",
    "    %run STAN.py\n",
    "os.remove(\"real_data_element.npy\")"
   ]
  },
  {
   "cell_type": "markdown",
   "metadata": {},
   "source": [
    "## Likelihood free inference"
   ]
  },
  {
   "cell_type": "code",
   "execution_count": 2,
   "metadata": {},
   "outputs": [
    {
     "name": "stdout",
     "output_type": "stream",
     "text": [
      "/home/francesca/Desktop/PhD_project/LFIH0_BNS/tutorial/modules\n"
     ]
    }
   ],
   "source": [
    "%cd ./modules/"
   ]
  },
  {
   "cell_type": "code",
   "execution_count": 3,
   "metadata": {
    "scrolled": false
   },
   "outputs": [
    {
     "name": "stderr",
     "output_type": "stream",
     "text": [
      "Using TensorFlow backend.\n"
     ]
    },
    {
     "name": "stdout",
     "output_type": "stream",
     "text": [
      "stacking weights already computed\n",
      "____PROCESS0 for NN_filename=MSE_ns5000_2LR0.1_128_128_bs100_lr0.0001_l10.0001have been set____\n",
      "validation residuals already computed\n",
      "prerun sims already compressed\n",
      "SS vs params already plotted\n",
      "[0.4831714  0.59811741]\n",
      "PYDELFI: APPLYING GAUSSIAN PRIOR\n",
      "____PROCESS0 for NN_filename=[array([0.0001]), array([100]), array([0.0001])]has set and started pydelfi____\n"
     ]
    },
    {
     "data": {
      "application/vnd.jupyter.widget-view+json": {
       "model_id": "2de374519dfe4826bbf3406db7e5bc18",
       "version_major": 2,
       "version_minor": 0
      },
      "text/plain": [
       "Training:   0%|          | 0/500 [00:00<?, ?it/s]"
      ]
     },
     "metadata": {},
     "output_type": "display_data"
    },
    {
     "data": {
      "application/vnd.jupyter.widget-view+json": {
       "model_id": "604169b79916499b963962468cfcab15",
       "version_major": 2,
       "version_minor": 0
      },
      "text/plain": [
       "Training:   0%|          | 0/500 [00:00<?, ?it/s]"
      ]
     },
     "metadata": {},
     "output_type": "display_data"
    },
    {
     "data": {
      "application/vnd.jupyter.widget-view+json": {
       "model_id": "77094121d6c94c9d95376af27b027fef",
       "version_major": 2,
       "version_minor": 0
      },
      "text/plain": [
       "Training:   0%|          | 0/500 [00:00<?, ?it/s]"
      ]
     },
     "metadata": {},
     "output_type": "display_data"
    },
    {
     "data": {
      "application/vnd.jupyter.widget-view+json": {
       "model_id": "58d939b339da4bcd8ad786340cab6da0",
       "version_major": 2,
       "version_minor": 0
      },
      "text/plain": [
       "Training:   0%|          | 0/500 [00:00<?, ?it/s]"
      ]
     },
     "metadata": {},
     "output_type": "display_data"
    },
    {
     "data": {
      "application/vnd.jupyter.widget-view+json": {
       "model_id": "b3cf3abce2c84761b600242f77cf2a7f",
       "version_major": 2,
       "version_minor": 0
      },
      "text/plain": [
       "Training:   0%|          | 0/500 [00:00<?, ?it/s]"
      ]
     },
     "metadata": {},
     "output_type": "display_data"
    },
    {
     "data": {
      "application/vnd.jupyter.widget-view+json": {
       "model_id": "f385ef35e0534c33a5a48dcff9f48f2c",
       "version_major": 2,
       "version_minor": 0
      },
      "text/plain": [
       "Training:   0%|          | 0/500 [00:00<?, ?it/s]"
      ]
     },
     "metadata": {},
     "output_type": "display_data"
    },
    {
     "name": "stdout",
     "output_type": "stream",
     "text": [
      "\u001b[43m\u001b[31m____PROCESS0 for NN_filename=[array([0.0001]), array([100]), array([0.0001])]has finished training pydelfi____\u001b[0m\n",
      "Removed no burn in\n",
      "Removed no burn in\n",
      "\u001b[41m\u001b[33m____PROCESS0 for NN_filename=[array([0.0001]), array([100]), array([0.0001])]has finished____\u001b[0m\n"
     ]
    }
   ],
   "source": [
    "%run LFI.py"
   ]
  },
  {
   "cell_type": "code",
   "execution_count": null,
   "metadata": {},
   "outputs": [],
   "source": []
  }
 ],
 "metadata": {
  "kernelspec": {
   "display_name": "Python 3",
   "language": "python",
   "name": "python3"
  },
  "language_info": {
   "codemirror_mode": {
    "name": "ipython",
    "version": 3
   },
   "file_extension": ".py",
   "mimetype": "text/x-python",
   "name": "python",
   "nbconvert_exporter": "python",
   "pygments_lexer": "ipython3",
   "version": "3.7.4"
  }
 },
 "nbformat": 4,
 "nbformat_minor": 4
}
